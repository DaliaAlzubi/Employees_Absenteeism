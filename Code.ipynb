{
 "cells": [
  {
   "cell_type": "code",
   "execution_count": 43,
   "metadata": {},
   "outputs": [],
   "source": [
    "# Libraries:\n",
    "%matplotlib inline\n",
    "import pandas as pd\n",
    "import numpy as np\n",
    "import matplotlib.pyplot as plt\n",
    "from sklearn.linear_model import LogisticRegression\n",
    "from sklearn.metrics import classification_report\n",
    "from sklearn.model_selection import train_test_split\n",
    "from sklearn.model_selection import cross_val_score\n",
    "from sklearn.neighbors import KNeighborsClassifier\n",
    "from sklearn.ensemble import RandomForestClassifier\n",
    "from sklearn.linear_model import Perceptron\n",
    "from sklearn.linear_model import SGDClassifier\n",
    "from sklearn.preprocessing import MinMaxScaler\n",
    "from sklearn import metrics\n",
    "import warnings\n",
    "warnings.filterwarnings(\"ignore\", category=Warning)"
   ]
  },
  {
   "cell_type": "code",
   "execution_count": 44,
   "metadata": {},
   "outputs": [],
   "source": [
    "# read dataset file:\n",
    "d = pd.read_csv(\"data_absent.csv\")\n",
    "# Remove the usless attribute:\n",
    "d = d.drop(columns = ['ID'])"
   ]
  },
  {
   "cell_type": "code",
   "execution_count": 45,
   "metadata": {},
   "outputs": [],
   "source": [
    "# Clustering the class of prediction into 6 labels:\n",
    "d['Absent']= d['Absent'].replace(0, '0_days')\n",
    "d['Absent']= d['Absent'].replace(range(1,25), '1_days')\n",
    "d['Absent']= d['Absent'].replace(range(25,49), '2_days')\n",
    "d['Absent']= d['Absent'].replace(range(49,73), '3_days')\n",
    "d['Absent']= d['Absent'].replace(range(73,97), '4_days')\n",
    "d['Absent']= d['Absent'].replace(range(97,121), '5_days')"
   ]
  },
  {
   "cell_type": "code",
   "execution_count": 46,
   "metadata": {},
   "outputs": [],
   "source": [
    "# Y: the attribute of Absenteeism time, that i wan to predict:\n",
    "y = d.Absent.values\n",
    "# X_data: the input attributes for training the model (not ready):\n",
    "x_data = d.drop('Absent',axis=1)"
   ]
  },
  {
   "cell_type": "code",
   "execution_count": 47,
   "metadata": {},
   "outputs": [],
   "source": [
    "# Preprocessing techniques that scale values between (0,1):\n",
    "scaler = MinMaxScaler(feature_range=(0,1))\n",
    "# X: the input attributes for training the model (ready):\n",
    "X = scaler.fit_transform(x_data)\n",
    "# Empty lists for storing classifiers with their accuracy rates:\n",
    "method_names=[]\n",
    "method_scores=[]"
   ]
  },
  {
   "cell_type": "code",
   "execution_count": 48,
   "metadata": {},
   "outputs": [
    {
     "name": "stdout",
     "output_type": "stream",
     "text": [
      "Perceptron:  0.930944826370527\n",
      "Stochastic Gradient Descent:  0.9164022563017804\n",
      "Logistic Regression:  0.9567468711440156\n",
      "K Neighbors:  0.9526925788824254\n",
      "Random Forest:  0.9124581350255596\n"
     ]
    }
   ],
   "source": [
    "# 1- Perceptron\n",
    "perceptron = Perceptron(max_iter=5)\n",
    "score_2 = cross_val_score(perceptron, X, y, cv=3, scoring = \"accuracy\")\n",
    "print(\"Perceptron: \", score_2.mean())\n",
    "method_names.append(\"Perceptron\")\n",
    "method_scores.append(score_2.mean())\n",
    "# 2- stochastic gradient descent:\n",
    "sgd = SGDClassifier(max_iter=5, tol=None)\n",
    "score_3 = cross_val_score(sgd, X, y, cv=3, scoring = \"accuracy\")\n",
    "print(\"Stochastic Gradient Descent: \", score_3.mean())\n",
    "method_names.append(\"SGD\")\n",
    "method_scores.append(score_3.mean())\n",
    "# 3- Logistic Regression :\n",
    "log_reg = LogisticRegression()\n",
    "score_4 = cross_val_score(log_reg, X, y, cv=3, scoring = \"accuracy\")\n",
    "print(\"Logistic Regression: \", score_4.mean())\n",
    "method_names.append(\"LR\")\n",
    "method_scores.append(score_4.mean())\n",
    "# 4- KNN:\n",
    "knn = KNeighborsClassifier(n_neighbors=5)\n",
    "score_5 = cross_val_score(knn, X, y, cv=3, scoring = \"accuracy\")\n",
    "print(\"K Neighbors: \", score_5.mean())\n",
    "method_names.append(\"KNN\")\n",
    "method_scores.append(score_5.mean())\n",
    "# 5- Random Forest:\n",
    "rand_forest = RandomForestClassifier(n_estimators=100, random_state=42)\n",
    "score_8 = cross_val_score(rand_forest, X, y, cv=3, scoring = \"accuracy\")\n",
    "print(\"Random Forest: \", score_8.mean())\n",
    "method_names.append(\"RF\")\n",
    "method_scores.append(score_8.mean())"
   ]
  },
  {
   "cell_type": "code",
   "execution_count": 49,
   "metadata": {},
   "outputs": [
    {
     "data": {
      "text/plain": [
       "Text(0, 0.5, 'Accurecy')"
      ]
     },
     "execution_count": 49,
     "metadata": {},
     "output_type": "execute_result"
    },
    {
     "data": {
      "image/png": "[encoded data removed]",
      "text/plain": [
       "<Figure size 720x288 with 1 Axes>"
      ]
     },
     "metadata": {
      "needs_background": "light"
     },
     "output_type": "display_data"
    }
   ],
   "source": [
    "# Bar-Chart Plot for classifiers accuracy rate: \n",
    "plt.figure(figsize=(10,4))\n",
    "plt.ylim([0.,1.1])\n",
    "plt.bar(method_names,method_scores,width=0.5, color=['r','b','y','c','m'])\n",
    "plt.xlabel('Algorithm')\n",
    "plt.ylabel('Accurecy')"
   ]
  },
  {
   "cell_type": "code",
   "execution_count": null,
   "metadata": {},
   "outputs": [],
   "source": []
  }
 ],
 "metadata": {
  "kernelspec": {
   "display_name": "Python 3",
   "language": "python",
   "name": "python3"
  },
  "language_info": {
   "codemirror_mode": {
    "name": "ipython",
    "version": 3
   },
   "file_extension": ".py",
   "mimetype": "text/x-python",
   "name": "python",
   "nbconvert_exporter": "python",
   "pygments_lexer": "ipython3",
   "version": "3.7.4"
  }
 },
 "nbformat": 4,
 "nbformat_minor": 2
}
